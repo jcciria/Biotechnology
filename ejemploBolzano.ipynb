{
  "nbformat": 4,
  "nbformat_minor": 0,
  "metadata": {
    "colab": {
      "provenance": [],
      "authorship_tag": "ABX9TyNKKVBjhOMhyF31UkOldr9g",
      "include_colab_link": true
    },
    "kernelspec": {
      "name": "python3",
      "display_name": "Python 3"
    },
    "language_info": {
      "name": "python"
    }
  },
  "cells": [
    {
      "cell_type": "markdown",
      "metadata": {
        "id": "view-in-github",
        "colab_type": "text"
      },
      "source": [
        "<a href=\"https://colab.research.google.com/github/jcciria/Biotechnology/blob/main/ejemploBolzano.ipynb\" target=\"_parent\"><img src=\"https://colab.research.google.com/assets/colab-badge.svg\" alt=\"Open In Colab\"/></a>"
      ]
    },
    {
      "cell_type": "code",
      "execution_count": 1,
      "metadata": {
        "colab": {
          "base_uri": "https://localhost:8080/"
        },
        "id": "_lJs0bvW9xvw",
        "outputId": "39f98825-b84e-47c6-e657-54e64072d1ee"
      },
      "outputs": [
        {
          "output_type": "stream",
          "name": "stdout",
          "text": [
            "0 7\n"
          ]
        },
        {
          "output_type": "execute_result",
          "data": {
            "text/plain": [
              "(1.5243452049841446, 2.6645352591003757e-15)"
            ]
          },
          "metadata": {},
          "execution_count": 1
        }
      ],
      "source": [
        "import numpy as np\n",
        "\n",
        "def fPrueba (x, alpha):\n",
        "    return x*np.exp(x)-alpha\n",
        "\n",
        "def bolzano (f, interval, epsilon, **paramF):\n",
        "    a,b= [x for x in interval]\n",
        "    print (a,b)\n",
        "    fa = f(a, **paramF)\n",
        "    fb = f(b, **paramF)\n",
        "    if fa * fb >=0:\n",
        "        sol = np.nan\n",
        "    else:\n",
        "        while (b - a > epsilon):\n",
        "            med = (a+b)/2\n",
        "            if f(med, **paramF) * fa > 0:\n",
        "                a = med\n",
        "            else:\n",
        "                b = med\n",
        "        sol = (a+b)/2\n",
        "    return sol\n",
        "\n",
        "alpha = 7\n",
        "sol=bolzano (fPrueba, (0,alpha),1e-15, alpha=alpha)\n",
        "sol, fPrueba(sol, alpha)"
      ]
    }
  ]
}